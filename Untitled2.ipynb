{
 "cells": [
  {
   "cell_type": "code",
   "execution_count": 1,
   "metadata": {},
   "outputs": [
    {
     "ename": "TypeError",
     "evalue": "__init__() missing 1 required positional argument: 'params'",
     "output_type": "error",
     "traceback": [
      "\u001b[1;31m---------------------------------------------------------------------------\u001b[0m",
      "\u001b[1;31mTypeError\u001b[0m                                 Traceback (most recent call last)",
      "Cell \u001b[1;32mIn[1], line 29\u001b[0m\n\u001b[0;32m     27\u001b[0m                     \u001b[38;5;28;01mreturn\u001b[39;00m fig,fig2,fig3,fig4,fig5,fig6,fig8,Flow_time, machine_util, util, makespan, tardiness, lateness, t_max,q_time_true,q_time_false,q_job_t, q_job_f, q_time\n\u001b[0;32m     28\u001b[0m \u001b[38;5;28;01mif\u001b[39;00m \u001b[38;5;28;01mTrue\u001b[39;00m:\n\u001b[1;32m---> 29\u001b[0m     simulator \u001b[38;5;241m=\u001b[39m \u001b[43mRun_Simulator\u001b[49m\u001b[43m(\u001b[49m\u001b[43m)\u001b[49m\n\u001b[0;32m     30\u001b[0m     simulator\u001b[38;5;241m.\u001b[39mmain(\u001b[38;5;124m\"\u001b[39m\u001b[38;5;124mDQN\u001b[39m\u001b[38;5;124m\"\u001b[39m,\u001b[38;5;124m\"\u001b[39m\u001b[38;5;124mSSU\u001b[39m\u001b[38;5;124m\"\u001b[39m) \u001b[38;5;66;03m# dsp_rule = 개별 확인할 때만 사용하면 됨\u001b[39;00m\n\u001b[0;32m     32\u001b[0m \u001b[38;5;66;03m# gantt chart 쑬 것인지\u001b[39;00m\n\u001b[0;32m     33\u001b[0m \u001b[38;5;66;03m# 학습 방법, kpi목표\u001b[39;00m\n\u001b[0;32m     34\u001b[0m \u001b[38;5;66;03m# 모든 디스패칭 룰 돌리기\u001b[39;00m\n",
      "\u001b[1;31mTypeError\u001b[0m: __init__() missing 1 required positional argument: 'params'"
     ]
    }
   ],
   "source": [
    "from DQN import *\n",
    "from simulator_DFJSP import *\n",
    "from Parameter import *\n",
    "\n",
    "class Run_Simulator:\n",
    "    def __init__(self,params):\n",
    "        print(\"simulator on\")\n",
    "        #self.params = Parameters()\n",
    "        self.params = params\n",
    "        self.DQN = DQN(self.params.data, self.params.r_param,self.params)\n",
    "        self.simulator = FJSP_simulator(self.params.data[\"p_data\"],self.params.data[\"s_data\"],\n",
    "                                        self.params.data[\"q_data\"],self.params.data[\"rd_data\"],self.params)\n",
    "\n",
    "    def main(self, mode, dsp_rule):\n",
    "        if mode == \"DQN\":\n",
    "            fig,fig2,fig3,fig4,fig5,fig6,fig8,Flow_time, machine_util, util, makespan, tardiness, lateness, t_max,q_time_true,q_time_false,q_job_t, q_job_f, q_time = self.DQN.main_d()\n",
    "            return fig,fig2,fig3,fig4,fig5,fig6,fig8,Flow_time, machine_util, util, makespan, tardiness, lateness, t_max,q_time_true,q_time_false,q_job_t, q_job_f, q_time\n",
    "        elif mode == \"DSP_run\":\n",
    "            fig,fig2,fig3,fig4,fig5,fig6,fig8,Flow_time, machine_util, util, makespan, tardiness, lateness, t_max,q_time_true,q_time_false,q_job_t, q_job_f, q_time = self.simulator.run(dsp_rule)\n",
    "            return fig,fig2,fig3,fig4,fig5,fig6,fig8,Flow_time, machine_util, util, makespan, tardiness, lateness, t_max,q_time_true,q_time_false,q_job_t, q_job_f, q_time\n",
    "        elif mode == \"DSP_check_run\":\n",
    "            for i in self.params.DSP_rule_check:\n",
    "                if self.params.DSP_rule_check[i]:\n",
    "                    print(i)\n",
    "                    self.simulator.reset()\n",
    "                    fig,fig2,fig3,fig4,fig5,fig6,fig8,Flow_time, machine_util, util, makespan, tardiness, lateness, t_max,q_time_true,q_time_false,q_job_t, q_job_f, q_time=self.simulator.run(self.params.select_DSP_rule[i])\n",
    "                    return fig,fig2,fig3,fig4,fig5,fig6,fig8,Flow_time, machine_util, util, makespan, tardiness, lateness, t_max,q_time_true,q_time_false,q_job_t, q_job_f, q_time\n",
    "if True:\n",
    "    simulator = Run_Simulator()\n",
    "    simulator.main(\"DQN\",\"SSU\") # dsp_rule = 개별 확인할 때만 사용하면 됨\n",
    "\n",
    "# gantt chart 쑬 것인지\n",
    "# 학습 방법, kpi목표\n",
    "# 모든 디스패칭 룰 돌리기"
   ]
  }
 ],
 "metadata": {
  "kernelspec": {
   "display_name": "test-of-test",
   "language": "python",
   "name": "test"
  },
  "language_info": {
   "codemirror_mode": {
    "name": "ipython",
    "version": 3
   },
   "file_extension": ".py",
   "mimetype": "text/x-python",
   "name": "python",
   "nbconvert_exporter": "python",
   "pygments_lexer": "ipython3",
   "version": "3.9.18"
  }
 },
 "nbformat": 4,
 "nbformat_minor": 2
}
